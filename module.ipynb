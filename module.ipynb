{
 "cells": [
  {
   "cell_type": "code",
   "execution_count": 74,
   "metadata": {},
   "outputs": [],
   "source": [
    "import numpy as np\n",
    "import pandas as pd\n",
    "import matplotlib.pyplot as plt\n",
    "import seaborn as sns\n",
    "import csv"
   ]
  },
  {
   "cell_type": "code",
   "execution_count": 75,
   "metadata": {},
   "outputs": [
    {
     "name": "stdout",
     "output_type": "stream",
     "text": [
      "           Patient ID  Patient age quantile SARS-Cov-2 exam result  \\\n",
      "0     44477f75e8169d2                    13               negative   \n",
      "1     126e9dd13932f68                    17               negative   \n",
      "2     a46b4402a0e5696                     8               negative   \n",
      "3     f7d619a94f97c45                     5               negative   \n",
      "4     d9e41465789c2b5                    15               negative   \n",
      "...               ...                   ...                    ...   \n",
      "5639  ae66feb9e4dc3a0                     3               positive   \n",
      "5640  517c2834024f3ea                    17               negative   \n",
      "5641  5c57d6037fe266d                     4               negative   \n",
      "5642  c20c44766f28291                    10               negative   \n",
      "5643  2697fdccbfeb7f7                    19               positive   \n",
      "\n",
      "      Patient addmited to regular ward (1=yes, 0=no)  \\\n",
      "0                                                  0   \n",
      "1                                                  0   \n",
      "2                                                  0   \n",
      "3                                                  0   \n",
      "4                                                  0   \n",
      "...                                              ...   \n",
      "5639                                               0   \n",
      "5640                                               0   \n",
      "5641                                               0   \n",
      "5642                                               0   \n",
      "5643                                               0   \n",
      "\n",
      "      Patient addmited to semi-intensive unit (1=yes, 0=no)  \\\n",
      "0                                                     0       \n",
      "1                                                     0       \n",
      "2                                                     0       \n",
      "3                                                     0       \n",
      "4                                                     0       \n",
      "...                                                 ...       \n",
      "5639                                                  0       \n",
      "5640                                                  0       \n",
      "5641                                                  0       \n",
      "5642                                                  0       \n",
      "5643                                                  0       \n",
      "\n",
      "      Patient addmited to intensive care unit (1=yes, 0=no)  Hematocrit  \\\n",
      "0                                                     0             NaN   \n",
      "1                                                     0        0.236515   \n",
      "2                                                     0             NaN   \n",
      "3                                                     0             NaN   \n",
      "4                                                     0             NaN   \n",
      "...                                                 ...             ...   \n",
      "5639                                                  0             NaN   \n",
      "5640                                                  0             NaN   \n",
      "5641                                                  0             NaN   \n",
      "5642                                                  0             NaN   \n",
      "5643                                                  0        0.694287   \n",
      "\n",
      "      Hemoglobin  Platelets  Mean platelet volume   ...  \\\n",
      "0            NaN        NaN                    NaN  ...   \n",
      "1      -0.022340  -0.517413               0.010677  ...   \n",
      "2            NaN        NaN                    NaN  ...   \n",
      "3            NaN        NaN                    NaN  ...   \n",
      "4            NaN        NaN                    NaN  ...   \n",
      "...          ...        ...                    ...  ...   \n",
      "5639         NaN        NaN                    NaN  ...   \n",
      "5640         NaN        NaN                    NaN  ...   \n",
      "5641         NaN        NaN                    NaN  ...   \n",
      "5642         NaN        NaN                    NaN  ...   \n",
      "5643    0.541564  -0.906829              -0.325903  ...   \n",
      "\n",
      "      Hb saturation (arterial blood gases)  \\\n",
      "0                                      NaN   \n",
      "1                                      NaN   \n",
      "2                                      NaN   \n",
      "3                                      NaN   \n",
      "4                                      NaN   \n",
      "...                                    ...   \n",
      "5639                                   NaN   \n",
      "5640                                   NaN   \n",
      "5641                                   NaN   \n",
      "5642                                   NaN   \n",
      "5643                                   NaN   \n",
      "\n",
      "      pCO2 (arterial blood gas analysis)  \\\n",
      "0                                    NaN   \n",
      "1                                    NaN   \n",
      "2                                    NaN   \n",
      "3                                    NaN   \n",
      "4                                    NaN   \n",
      "...                                  ...   \n",
      "5639                                 NaN   \n",
      "5640                                 NaN   \n",
      "5641                                 NaN   \n",
      "5642                                 NaN   \n",
      "5643                                 NaN   \n",
      "\n",
      "      Base excess (arterial blood gas analysis)  \\\n",
      "0                                           NaN   \n",
      "1                                           NaN   \n",
      "2                                           NaN   \n",
      "3                                           NaN   \n",
      "4                                           NaN   \n",
      "...                                         ...   \n",
      "5639                                        NaN   \n",
      "5640                                        NaN   \n",
      "5641                                        NaN   \n",
      "5642                                        NaN   \n",
      "5643                                        NaN   \n",
      "\n",
      "      pH (arterial blood gas analysis)  \\\n",
      "0                                  NaN   \n",
      "1                                  NaN   \n",
      "2                                  NaN   \n",
      "3                                  NaN   \n",
      "4                                  NaN   \n",
      "...                                ...   \n",
      "5639                               NaN   \n",
      "5640                               NaN   \n",
      "5641                               NaN   \n",
      "5642                               NaN   \n",
      "5643                               NaN   \n",
      "\n",
      "      Total CO2 (arterial blood gas analysis)  \\\n",
      "0                                         NaN   \n",
      "1                                         NaN   \n",
      "2                                         NaN   \n",
      "3                                         NaN   \n",
      "4                                         NaN   \n",
      "...                                       ...   \n",
      "5639                                      NaN   \n",
      "5640                                      NaN   \n",
      "5641                                      NaN   \n",
      "5642                                      NaN   \n",
      "5643                                      NaN   \n",
      "\n",
      "      HCO3 (arterial blood gas analysis)  pO2 (arterial blood gas analysis)  \\\n",
      "0                                    NaN                                NaN   \n",
      "1                                    NaN                                NaN   \n",
      "2                                    NaN                                NaN   \n",
      "3                                    NaN                                NaN   \n",
      "4                                    NaN                                NaN   \n",
      "...                                  ...                                ...   \n",
      "5639                                 NaN                                NaN   \n",
      "5640                                 NaN                                NaN   \n",
      "5641                                 NaN                                NaN   \n",
      "5642                                 NaN                                NaN   \n",
      "5643                                 NaN                                NaN   \n",
      "\n",
      "      Arteiral Fio2  Phosphor  ctO2 (arterial blood gas analysis)  \n",
      "0               NaN       NaN                                 NaN  \n",
      "1               NaN       NaN                                 NaN  \n",
      "2               NaN       NaN                                 NaN  \n",
      "3               NaN       NaN                                 NaN  \n",
      "4               NaN       NaN                                 NaN  \n",
      "...             ...       ...                                 ...  \n",
      "5639            NaN       NaN                                 NaN  \n",
      "5640            NaN       NaN                                 NaN  \n",
      "5641            NaN       NaN                                 NaN  \n",
      "5642            NaN       NaN                                 NaN  \n",
      "5643            NaN       NaN                                 NaN  \n",
      "\n",
      "[5644 rows x 111 columns]\n"
     ]
    }
   ],
   "source": [
    "dataset = pd.read_excel(r\"C:\\Users\\KHAOULA\\Desktop\\PFSGI3\\dataset.xlsx\")  \n",
    "print(dataset)"
   ]
  },
  {
   "cell_type": "code",
   "execution_count": 76,
   "metadata": {},
   "outputs": [
    {
     "data": {
      "text/html": [
       "<div>\n",
       "<style scoped>\n",
       "    .dataframe tbody tr th:only-of-type {\n",
       "        vertical-align: middle;\n",
       "    }\n",
       "\n",
       "    .dataframe tbody tr th {\n",
       "        vertical-align: top;\n",
       "    }\n",
       "\n",
       "    .dataframe thead th {\n",
       "        text-align: right;\n",
       "    }\n",
       "</style>\n",
       "<table border=\"1\" class=\"dataframe\">\n",
       "  <thead>\n",
       "    <tr style=\"text-align: right;\">\n",
       "      <th></th>\n",
       "      <th>Patient ID</th>\n",
       "      <th>Patient age quantile</th>\n",
       "      <th>SARS-Cov-2 exam result</th>\n",
       "      <th>Patient addmited to regular ward (1=yes, 0=no)</th>\n",
       "      <th>Patient addmited to semi-intensive unit (1=yes, 0=no)</th>\n",
       "      <th>Patient addmited to intensive care unit (1=yes, 0=no)</th>\n",
       "      <th>Hematocrit</th>\n",
       "      <th>Hemoglobin</th>\n",
       "      <th>Platelets</th>\n",
       "      <th>Mean platelet volume</th>\n",
       "      <th>...</th>\n",
       "      <th>Hb saturation (arterial blood gases)</th>\n",
       "      <th>pCO2 (arterial blood gas analysis)</th>\n",
       "      <th>Base excess (arterial blood gas analysis)</th>\n",
       "      <th>pH (arterial blood gas analysis)</th>\n",
       "      <th>Total CO2 (arterial blood gas analysis)</th>\n",
       "      <th>HCO3 (arterial blood gas analysis)</th>\n",
       "      <th>pO2 (arterial blood gas analysis)</th>\n",
       "      <th>Arteiral Fio2</th>\n",
       "      <th>Phosphor</th>\n",
       "      <th>ctO2 (arterial blood gas analysis)</th>\n",
       "    </tr>\n",
       "  </thead>\n",
       "  <tbody>\n",
       "    <tr>\n",
       "      <th>0</th>\n",
       "      <td>44477f75e8169d2</td>\n",
       "      <td>13</td>\n",
       "      <td>negative</td>\n",
       "      <td>0</td>\n",
       "      <td>0</td>\n",
       "      <td>0</td>\n",
       "      <td>NaN</td>\n",
       "      <td>NaN</td>\n",
       "      <td>NaN</td>\n",
       "      <td>NaN</td>\n",
       "      <td>...</td>\n",
       "      <td>NaN</td>\n",
       "      <td>NaN</td>\n",
       "      <td>NaN</td>\n",
       "      <td>NaN</td>\n",
       "      <td>NaN</td>\n",
       "      <td>NaN</td>\n",
       "      <td>NaN</td>\n",
       "      <td>NaN</td>\n",
       "      <td>NaN</td>\n",
       "      <td>NaN</td>\n",
       "    </tr>\n",
       "    <tr>\n",
       "      <th>1</th>\n",
       "      <td>126e9dd13932f68</td>\n",
       "      <td>17</td>\n",
       "      <td>negative</td>\n",
       "      <td>0</td>\n",
       "      <td>0</td>\n",
       "      <td>0</td>\n",
       "      <td>0.236515</td>\n",
       "      <td>-0.02234</td>\n",
       "      <td>-0.517413</td>\n",
       "      <td>0.010677</td>\n",
       "      <td>...</td>\n",
       "      <td>NaN</td>\n",
       "      <td>NaN</td>\n",
       "      <td>NaN</td>\n",
       "      <td>NaN</td>\n",
       "      <td>NaN</td>\n",
       "      <td>NaN</td>\n",
       "      <td>NaN</td>\n",
       "      <td>NaN</td>\n",
       "      <td>NaN</td>\n",
       "      <td>NaN</td>\n",
       "    </tr>\n",
       "    <tr>\n",
       "      <th>2</th>\n",
       "      <td>a46b4402a0e5696</td>\n",
       "      <td>8</td>\n",
       "      <td>negative</td>\n",
       "      <td>0</td>\n",
       "      <td>0</td>\n",
       "      <td>0</td>\n",
       "      <td>NaN</td>\n",
       "      <td>NaN</td>\n",
       "      <td>NaN</td>\n",
       "      <td>NaN</td>\n",
       "      <td>...</td>\n",
       "      <td>NaN</td>\n",
       "      <td>NaN</td>\n",
       "      <td>NaN</td>\n",
       "      <td>NaN</td>\n",
       "      <td>NaN</td>\n",
       "      <td>NaN</td>\n",
       "      <td>NaN</td>\n",
       "      <td>NaN</td>\n",
       "      <td>NaN</td>\n",
       "      <td>NaN</td>\n",
       "    </tr>\n",
       "    <tr>\n",
       "      <th>3</th>\n",
       "      <td>f7d619a94f97c45</td>\n",
       "      <td>5</td>\n",
       "      <td>negative</td>\n",
       "      <td>0</td>\n",
       "      <td>0</td>\n",
       "      <td>0</td>\n",
       "      <td>NaN</td>\n",
       "      <td>NaN</td>\n",
       "      <td>NaN</td>\n",
       "      <td>NaN</td>\n",
       "      <td>...</td>\n",
       "      <td>NaN</td>\n",
       "      <td>NaN</td>\n",
       "      <td>NaN</td>\n",
       "      <td>NaN</td>\n",
       "      <td>NaN</td>\n",
       "      <td>NaN</td>\n",
       "      <td>NaN</td>\n",
       "      <td>NaN</td>\n",
       "      <td>NaN</td>\n",
       "      <td>NaN</td>\n",
       "    </tr>\n",
       "    <tr>\n",
       "      <th>4</th>\n",
       "      <td>d9e41465789c2b5</td>\n",
       "      <td>15</td>\n",
       "      <td>negative</td>\n",
       "      <td>0</td>\n",
       "      <td>0</td>\n",
       "      <td>0</td>\n",
       "      <td>NaN</td>\n",
       "      <td>NaN</td>\n",
       "      <td>NaN</td>\n",
       "      <td>NaN</td>\n",
       "      <td>...</td>\n",
       "      <td>NaN</td>\n",
       "      <td>NaN</td>\n",
       "      <td>NaN</td>\n",
       "      <td>NaN</td>\n",
       "      <td>NaN</td>\n",
       "      <td>NaN</td>\n",
       "      <td>NaN</td>\n",
       "      <td>NaN</td>\n",
       "      <td>NaN</td>\n",
       "      <td>NaN</td>\n",
       "    </tr>\n",
       "  </tbody>\n",
       "</table>\n",
       "<p>5 rows × 111 columns</p>\n",
       "</div>"
      ],
      "text/plain": [
       "        Patient ID  Patient age quantile SARS-Cov-2 exam result  \\\n",
       "0  44477f75e8169d2                    13               negative   \n",
       "1  126e9dd13932f68                    17               negative   \n",
       "2  a46b4402a0e5696                     8               negative   \n",
       "3  f7d619a94f97c45                     5               negative   \n",
       "4  d9e41465789c2b5                    15               negative   \n",
       "\n",
       "   Patient addmited to regular ward (1=yes, 0=no)  \\\n",
       "0                                               0   \n",
       "1                                               0   \n",
       "2                                               0   \n",
       "3                                               0   \n",
       "4                                               0   \n",
       "\n",
       "   Patient addmited to semi-intensive unit (1=yes, 0=no)  \\\n",
       "0                                                  0       \n",
       "1                                                  0       \n",
       "2                                                  0       \n",
       "3                                                  0       \n",
       "4                                                  0       \n",
       "\n",
       "   Patient addmited to intensive care unit (1=yes, 0=no)  Hematocrit  \\\n",
       "0                                                  0             NaN   \n",
       "1                                                  0        0.236515   \n",
       "2                                                  0             NaN   \n",
       "3                                                  0             NaN   \n",
       "4                                                  0             NaN   \n",
       "\n",
       "   Hemoglobin  Platelets  Mean platelet volume   ...  \\\n",
       "0         NaN        NaN                    NaN  ...   \n",
       "1    -0.02234  -0.517413               0.010677  ...   \n",
       "2         NaN        NaN                    NaN  ...   \n",
       "3         NaN        NaN                    NaN  ...   \n",
       "4         NaN        NaN                    NaN  ...   \n",
       "\n",
       "   Hb saturation (arterial blood gases)  pCO2 (arterial blood gas analysis)  \\\n",
       "0                                   NaN                                 NaN   \n",
       "1                                   NaN                                 NaN   \n",
       "2                                   NaN                                 NaN   \n",
       "3                                   NaN                                 NaN   \n",
       "4                                   NaN                                 NaN   \n",
       "\n",
       "   Base excess (arterial blood gas analysis)  \\\n",
       "0                                        NaN   \n",
       "1                                        NaN   \n",
       "2                                        NaN   \n",
       "3                                        NaN   \n",
       "4                                        NaN   \n",
       "\n",
       "   pH (arterial blood gas analysis)  Total CO2 (arterial blood gas analysis)  \\\n",
       "0                               NaN                                      NaN   \n",
       "1                               NaN                                      NaN   \n",
       "2                               NaN                                      NaN   \n",
       "3                               NaN                                      NaN   \n",
       "4                               NaN                                      NaN   \n",
       "\n",
       "   HCO3 (arterial blood gas analysis)  pO2 (arterial blood gas analysis)  \\\n",
       "0                                 NaN                                NaN   \n",
       "1                                 NaN                                NaN   \n",
       "2                                 NaN                                NaN   \n",
       "3                                 NaN                                NaN   \n",
       "4                                 NaN                                NaN   \n",
       "\n",
       "   Arteiral Fio2  Phosphor  ctO2 (arterial blood gas analysis)  \n",
       "0            NaN       NaN                                 NaN  \n",
       "1            NaN       NaN                                 NaN  \n",
       "2            NaN       NaN                                 NaN  \n",
       "3            NaN       NaN                                 NaN  \n",
       "4            NaN       NaN                                 NaN  \n",
       "\n",
       "[5 rows x 111 columns]"
      ]
     },
     "execution_count": 76,
     "metadata": {},
     "output_type": "execute_result"
    }
   ],
   "source": [
    "dataset.head()"
   ]
  },
  {
   "cell_type": "markdown",
   "metadata": {},
   "source": [
    "# PRE-PROCESSING"
   ]
  },
  {
   "cell_type": "code",
   "execution_count": 77,
   "metadata": {},
   "outputs": [
    {
     "data": {
      "text/html": [
       "<div>\n",
       "<style scoped>\n",
       "    .dataframe tbody tr th:only-of-type {\n",
       "        vertical-align: middle;\n",
       "    }\n",
       "\n",
       "    .dataframe tbody tr th {\n",
       "        vertical-align: top;\n",
       "    }\n",
       "\n",
       "    .dataframe thead th {\n",
       "        text-align: right;\n",
       "    }\n",
       "</style>\n",
       "<table border=\"1\" class=\"dataframe\">\n",
       "  <thead>\n",
       "    <tr style=\"text-align: right;\">\n",
       "      <th></th>\n",
       "      <th>Patient ID</th>\n",
       "      <th>Patient age quantile</th>\n",
       "      <th>SARS-Cov-2 exam result</th>\n",
       "      <th>Patient addmited to regular ward (1=yes, 0=no)</th>\n",
       "      <th>Patient addmited to semi-intensive unit (1=yes, 0=no)</th>\n",
       "      <th>Patient addmited to intensive care unit (1=yes, 0=no)</th>\n",
       "      <th>Hematocrit</th>\n",
       "      <th>Hemoglobin</th>\n",
       "      <th>Platelets</th>\n",
       "      <th>Mean platelet volume</th>\n",
       "      <th>...</th>\n",
       "      <th>Hb saturation (arterial blood gases)</th>\n",
       "      <th>pCO2 (arterial blood gas analysis)</th>\n",
       "      <th>Base excess (arterial blood gas analysis)</th>\n",
       "      <th>pH (arterial blood gas analysis)</th>\n",
       "      <th>Total CO2 (arterial blood gas analysis)</th>\n",
       "      <th>HCO3 (arterial blood gas analysis)</th>\n",
       "      <th>pO2 (arterial blood gas analysis)</th>\n",
       "      <th>Arteiral Fio2</th>\n",
       "      <th>Phosphor</th>\n",
       "      <th>ctO2 (arterial blood gas analysis)</th>\n",
       "    </tr>\n",
       "  </thead>\n",
       "  <tbody>\n",
       "    <tr>\n",
       "      <th>0</th>\n",
       "      <td>44477f75e8169d2</td>\n",
       "      <td>13</td>\n",
       "      <td>negative</td>\n",
       "      <td>0</td>\n",
       "      <td>0</td>\n",
       "      <td>0</td>\n",
       "      <td>NaN</td>\n",
       "      <td>NaN</td>\n",
       "      <td>NaN</td>\n",
       "      <td>NaN</td>\n",
       "      <td>...</td>\n",
       "      <td>NaN</td>\n",
       "      <td>NaN</td>\n",
       "      <td>NaN</td>\n",
       "      <td>NaN</td>\n",
       "      <td>NaN</td>\n",
       "      <td>NaN</td>\n",
       "      <td>NaN</td>\n",
       "      <td>NaN</td>\n",
       "      <td>NaN</td>\n",
       "      <td>NaN</td>\n",
       "    </tr>\n",
       "    <tr>\n",
       "      <th>1</th>\n",
       "      <td>126e9dd13932f68</td>\n",
       "      <td>17</td>\n",
       "      <td>negative</td>\n",
       "      <td>0</td>\n",
       "      <td>0</td>\n",
       "      <td>0</td>\n",
       "      <td>0.236515</td>\n",
       "      <td>-0.02234</td>\n",
       "      <td>-0.517413</td>\n",
       "      <td>0.010677</td>\n",
       "      <td>...</td>\n",
       "      <td>NaN</td>\n",
       "      <td>NaN</td>\n",
       "      <td>NaN</td>\n",
       "      <td>NaN</td>\n",
       "      <td>NaN</td>\n",
       "      <td>NaN</td>\n",
       "      <td>NaN</td>\n",
       "      <td>NaN</td>\n",
       "      <td>NaN</td>\n",
       "      <td>NaN</td>\n",
       "    </tr>\n",
       "    <tr>\n",
       "      <th>2</th>\n",
       "      <td>a46b4402a0e5696</td>\n",
       "      <td>8</td>\n",
       "      <td>negative</td>\n",
       "      <td>0</td>\n",
       "      <td>0</td>\n",
       "      <td>0</td>\n",
       "      <td>NaN</td>\n",
       "      <td>NaN</td>\n",
       "      <td>NaN</td>\n",
       "      <td>NaN</td>\n",
       "      <td>...</td>\n",
       "      <td>NaN</td>\n",
       "      <td>NaN</td>\n",
       "      <td>NaN</td>\n",
       "      <td>NaN</td>\n",
       "      <td>NaN</td>\n",
       "      <td>NaN</td>\n",
       "      <td>NaN</td>\n",
       "      <td>NaN</td>\n",
       "      <td>NaN</td>\n",
       "      <td>NaN</td>\n",
       "    </tr>\n",
       "    <tr>\n",
       "      <th>3</th>\n",
       "      <td>f7d619a94f97c45</td>\n",
       "      <td>5</td>\n",
       "      <td>negative</td>\n",
       "      <td>0</td>\n",
       "      <td>0</td>\n",
       "      <td>0</td>\n",
       "      <td>NaN</td>\n",
       "      <td>NaN</td>\n",
       "      <td>NaN</td>\n",
       "      <td>NaN</td>\n",
       "      <td>...</td>\n",
       "      <td>NaN</td>\n",
       "      <td>NaN</td>\n",
       "      <td>NaN</td>\n",
       "      <td>NaN</td>\n",
       "      <td>NaN</td>\n",
       "      <td>NaN</td>\n",
       "      <td>NaN</td>\n",
       "      <td>NaN</td>\n",
       "      <td>NaN</td>\n",
       "      <td>NaN</td>\n",
       "    </tr>\n",
       "    <tr>\n",
       "      <th>4</th>\n",
       "      <td>d9e41465789c2b5</td>\n",
       "      <td>15</td>\n",
       "      <td>negative</td>\n",
       "      <td>0</td>\n",
       "      <td>0</td>\n",
       "      <td>0</td>\n",
       "      <td>NaN</td>\n",
       "      <td>NaN</td>\n",
       "      <td>NaN</td>\n",
       "      <td>NaN</td>\n",
       "      <td>...</td>\n",
       "      <td>NaN</td>\n",
       "      <td>NaN</td>\n",
       "      <td>NaN</td>\n",
       "      <td>NaN</td>\n",
       "      <td>NaN</td>\n",
       "      <td>NaN</td>\n",
       "      <td>NaN</td>\n",
       "      <td>NaN</td>\n",
       "      <td>NaN</td>\n",
       "      <td>NaN</td>\n",
       "    </tr>\n",
       "  </tbody>\n",
       "</table>\n",
       "<p>5 rows × 111 columns</p>\n",
       "</div>"
      ],
      "text/plain": [
       "        Patient ID  Patient age quantile SARS-Cov-2 exam result  \\\n",
       "0  44477f75e8169d2                    13               negative   \n",
       "1  126e9dd13932f68                    17               negative   \n",
       "2  a46b4402a0e5696                     8               negative   \n",
       "3  f7d619a94f97c45                     5               negative   \n",
       "4  d9e41465789c2b5                    15               negative   \n",
       "\n",
       "   Patient addmited to regular ward (1=yes, 0=no)  \\\n",
       "0                                               0   \n",
       "1                                               0   \n",
       "2                                               0   \n",
       "3                                               0   \n",
       "4                                               0   \n",
       "\n",
       "   Patient addmited to semi-intensive unit (1=yes, 0=no)  \\\n",
       "0                                                  0       \n",
       "1                                                  0       \n",
       "2                                                  0       \n",
       "3                                                  0       \n",
       "4                                                  0       \n",
       "\n",
       "   Patient addmited to intensive care unit (1=yes, 0=no)  Hematocrit  \\\n",
       "0                                                  0             NaN   \n",
       "1                                                  0        0.236515   \n",
       "2                                                  0             NaN   \n",
       "3                                                  0             NaN   \n",
       "4                                                  0             NaN   \n",
       "\n",
       "   Hemoglobin  Platelets  Mean platelet volume   ...  \\\n",
       "0         NaN        NaN                    NaN  ...   \n",
       "1    -0.02234  -0.517413               0.010677  ...   \n",
       "2         NaN        NaN                    NaN  ...   \n",
       "3         NaN        NaN                    NaN  ...   \n",
       "4         NaN        NaN                    NaN  ...   \n",
       "\n",
       "   Hb saturation (arterial blood gases)  pCO2 (arterial blood gas analysis)  \\\n",
       "0                                   NaN                                 NaN   \n",
       "1                                   NaN                                 NaN   \n",
       "2                                   NaN                                 NaN   \n",
       "3                                   NaN                                 NaN   \n",
       "4                                   NaN                                 NaN   \n",
       "\n",
       "   Base excess (arterial blood gas analysis)  \\\n",
       "0                                        NaN   \n",
       "1                                        NaN   \n",
       "2                                        NaN   \n",
       "3                                        NaN   \n",
       "4                                        NaN   \n",
       "\n",
       "   pH (arterial blood gas analysis)  Total CO2 (arterial blood gas analysis)  \\\n",
       "0                               NaN                                      NaN   \n",
       "1                               NaN                                      NaN   \n",
       "2                               NaN                                      NaN   \n",
       "3                               NaN                                      NaN   \n",
       "4                               NaN                                      NaN   \n",
       "\n",
       "   HCO3 (arterial blood gas analysis)  pO2 (arterial blood gas analysis)  \\\n",
       "0                                 NaN                                NaN   \n",
       "1                                 NaN                                NaN   \n",
       "2                                 NaN                                NaN   \n",
       "3                                 NaN                                NaN   \n",
       "4                                 NaN                                NaN   \n",
       "\n",
       "   Arteiral Fio2  Phosphor  ctO2 (arterial blood gas analysis)  \n",
       "0            NaN       NaN                                 NaN  \n",
       "1            NaN       NaN                                 NaN  \n",
       "2            NaN       NaN                                 NaN  \n",
       "3            NaN       NaN                                 NaN  \n",
       "4            NaN       NaN                                 NaN  \n",
       "\n",
       "[5 rows x 111 columns]"
      ]
     },
     "execution_count": 77,
     "metadata": {},
     "output_type": "execute_result"
    }
   ],
   "source": [
    "dataset.copy()\n",
    "dataset.head()"
   ]
  },
  {
   "cell_type": "code",
   "execution_count": 78,
   "metadata": {},
   "outputs": [
    {
     "data": {
      "text/plain": [
       "(5644, 111)"
      ]
     },
     "execution_count": 78,
     "metadata": {},
     "output_type": "execute_result"
    }
   ],
   "source": [
    "dataset.shape"
   ]
  },
  {
   "cell_type": "markdown",
   "metadata": {},
   "source": [
    "# Création des sous-ensembles"
   ]
  },
  {
   "cell_type": "code",
   "execution_count": 79,
   "metadata": {},
   "outputs": [],
   "source": [
    "missing_rate = dataset.isna().sum()/dataset.shape[0]"
   ]
  },
  {
   "cell_type": "code",
   "execution_count": 80,
   "metadata": {},
   "outputs": [
    {
     "data": {
      "text/plain": [
       "Patient ID                                               0.000000\n",
       "Patient age quantile                                     0.000000\n",
       "SARS-Cov-2 exam result                                   0.000000\n",
       "Patient addmited to regular ward (1=yes, 0=no)           0.000000\n",
       "Patient addmited to semi-intensive unit (1=yes, 0=no)    0.000000\n",
       "                                                           ...   \n",
       "HCO3 (arterial blood gas analysis)                       0.995216\n",
       "pO2 (arterial blood gas analysis)                        0.995216\n",
       "Arteiral Fio2                                            0.996456\n",
       "Phosphor                                                 0.996456\n",
       "ctO2 (arterial blood gas analysis)                       0.995216\n",
       "Length: 111, dtype: float64"
      ]
     },
     "execution_count": 80,
     "metadata": {},
     "output_type": "execute_result"
    }
   ],
   "source": [
    "missing_rate"
   ]
  },
  {
   "cell_type": "code",
   "execution_count": 81,
   "metadata": {},
   "outputs": [],
   "source": [
    "blood_columns = list(dataset.columns[(missing_rate < 0.9) & (missing_rate > 0.88)])"
   ]
  },
  {
   "cell_type": "code",
   "execution_count": 82,
   "metadata": {},
   "outputs": [],
   "source": [
    "viral_columns = list(dataset.columns[(missing_rate < 0.80) & (missing_rate > 0.75)])"
   ]
  },
  {
   "cell_type": "code",
   "execution_count": 83,
   "metadata": {},
   "outputs": [],
   "source": [
    "key_columns = ['Patient age quantile', 'SARS-Cov-2 exam result']"
   ]
  },
  {
   "cell_type": "markdown",
   "metadata": {},
   "source": [
    "utiliser les trois val pour filtrer notre dataset"
   ]
  },
  {
   "cell_type": "code",
   "execution_count": 84,
   "metadata": {},
   "outputs": [
    {
     "data": {
      "text/html": [
       "<div>\n",
       "<style scoped>\n",
       "    .dataframe tbody tr th:only-of-type {\n",
       "        vertical-align: middle;\n",
       "    }\n",
       "\n",
       "    .dataframe tbody tr th {\n",
       "        vertical-align: top;\n",
       "    }\n",
       "\n",
       "    .dataframe thead th {\n",
       "        text-align: right;\n",
       "    }\n",
       "</style>\n",
       "<table border=\"1\" class=\"dataframe\">\n",
       "  <thead>\n",
       "    <tr style=\"text-align: right;\">\n",
       "      <th></th>\n",
       "      <th>Patient age quantile</th>\n",
       "      <th>SARS-Cov-2 exam result</th>\n",
       "      <th>Hematocrit</th>\n",
       "      <th>Hemoglobin</th>\n",
       "      <th>Platelets</th>\n",
       "      <th>Mean platelet volume</th>\n",
       "      <th>Red blood Cells</th>\n",
       "      <th>Lymphocytes</th>\n",
       "      <th>Mean corpuscular hemoglobin concentration (MCHC)</th>\n",
       "      <th>Leukocytes</th>\n",
       "      <th>...</th>\n",
       "      <th>Parainfluenza 3</th>\n",
       "      <th>Chlamydophila pneumoniae</th>\n",
       "      <th>Adenovirus</th>\n",
       "      <th>Parainfluenza 4</th>\n",
       "      <th>Coronavirus229E</th>\n",
       "      <th>CoronavirusOC43</th>\n",
       "      <th>Inf A H1N1 2009</th>\n",
       "      <th>Bordetella pertussis</th>\n",
       "      <th>Metapneumovirus</th>\n",
       "      <th>Parainfluenza 2</th>\n",
       "    </tr>\n",
       "  </thead>\n",
       "  <tbody>\n",
       "    <tr>\n",
       "      <th>0</th>\n",
       "      <td>13</td>\n",
       "      <td>negative</td>\n",
       "      <td>NaN</td>\n",
       "      <td>NaN</td>\n",
       "      <td>NaN</td>\n",
       "      <td>NaN</td>\n",
       "      <td>NaN</td>\n",
       "      <td>NaN</td>\n",
       "      <td>NaN</td>\n",
       "      <td>NaN</td>\n",
       "      <td>...</td>\n",
       "      <td>NaN</td>\n",
       "      <td>NaN</td>\n",
       "      <td>NaN</td>\n",
       "      <td>NaN</td>\n",
       "      <td>NaN</td>\n",
       "      <td>NaN</td>\n",
       "      <td>NaN</td>\n",
       "      <td>NaN</td>\n",
       "      <td>NaN</td>\n",
       "      <td>NaN</td>\n",
       "    </tr>\n",
       "    <tr>\n",
       "      <th>1</th>\n",
       "      <td>17</td>\n",
       "      <td>negative</td>\n",
       "      <td>0.236515</td>\n",
       "      <td>-0.02234</td>\n",
       "      <td>-0.517413</td>\n",
       "      <td>0.010677</td>\n",
       "      <td>0.102004</td>\n",
       "      <td>0.318366</td>\n",
       "      <td>-0.95079</td>\n",
       "      <td>-0.09461</td>\n",
       "      <td>...</td>\n",
       "      <td>not_detected</td>\n",
       "      <td>not_detected</td>\n",
       "      <td>not_detected</td>\n",
       "      <td>not_detected</td>\n",
       "      <td>not_detected</td>\n",
       "      <td>not_detected</td>\n",
       "      <td>not_detected</td>\n",
       "      <td>not_detected</td>\n",
       "      <td>not_detected</td>\n",
       "      <td>not_detected</td>\n",
       "    </tr>\n",
       "    <tr>\n",
       "      <th>2</th>\n",
       "      <td>8</td>\n",
       "      <td>negative</td>\n",
       "      <td>NaN</td>\n",
       "      <td>NaN</td>\n",
       "      <td>NaN</td>\n",
       "      <td>NaN</td>\n",
       "      <td>NaN</td>\n",
       "      <td>NaN</td>\n",
       "      <td>NaN</td>\n",
       "      <td>NaN</td>\n",
       "      <td>...</td>\n",
       "      <td>NaN</td>\n",
       "      <td>NaN</td>\n",
       "      <td>NaN</td>\n",
       "      <td>NaN</td>\n",
       "      <td>NaN</td>\n",
       "      <td>NaN</td>\n",
       "      <td>NaN</td>\n",
       "      <td>NaN</td>\n",
       "      <td>NaN</td>\n",
       "      <td>NaN</td>\n",
       "    </tr>\n",
       "    <tr>\n",
       "      <th>3</th>\n",
       "      <td>5</td>\n",
       "      <td>negative</td>\n",
       "      <td>NaN</td>\n",
       "      <td>NaN</td>\n",
       "      <td>NaN</td>\n",
       "      <td>NaN</td>\n",
       "      <td>NaN</td>\n",
       "      <td>NaN</td>\n",
       "      <td>NaN</td>\n",
       "      <td>NaN</td>\n",
       "      <td>...</td>\n",
       "      <td>NaN</td>\n",
       "      <td>NaN</td>\n",
       "      <td>NaN</td>\n",
       "      <td>NaN</td>\n",
       "      <td>NaN</td>\n",
       "      <td>NaN</td>\n",
       "      <td>NaN</td>\n",
       "      <td>NaN</td>\n",
       "      <td>NaN</td>\n",
       "      <td>NaN</td>\n",
       "    </tr>\n",
       "    <tr>\n",
       "      <th>4</th>\n",
       "      <td>15</td>\n",
       "      <td>negative</td>\n",
       "      <td>NaN</td>\n",
       "      <td>NaN</td>\n",
       "      <td>NaN</td>\n",
       "      <td>NaN</td>\n",
       "      <td>NaN</td>\n",
       "      <td>NaN</td>\n",
       "      <td>NaN</td>\n",
       "      <td>NaN</td>\n",
       "      <td>...</td>\n",
       "      <td>not_detected</td>\n",
       "      <td>not_detected</td>\n",
       "      <td>not_detected</td>\n",
       "      <td>not_detected</td>\n",
       "      <td>not_detected</td>\n",
       "      <td>not_detected</td>\n",
       "      <td>not_detected</td>\n",
       "      <td>not_detected</td>\n",
       "      <td>not_detected</td>\n",
       "      <td>not_detected</td>\n",
       "    </tr>\n",
       "  </tbody>\n",
       "</table>\n",
       "<p>5 rows × 33 columns</p>\n",
       "</div>"
      ],
      "text/plain": [
       "   Patient age quantile SARS-Cov-2 exam result  Hematocrit  Hemoglobin  \\\n",
       "0                    13               negative         NaN         NaN   \n",
       "1                    17               negative    0.236515    -0.02234   \n",
       "2                     8               negative         NaN         NaN   \n",
       "3                     5               negative         NaN         NaN   \n",
       "4                    15               negative         NaN         NaN   \n",
       "\n",
       "   Platelets  Mean platelet volume   Red blood Cells  Lymphocytes  \\\n",
       "0        NaN                    NaN              NaN          NaN   \n",
       "1  -0.517413               0.010677         0.102004     0.318366   \n",
       "2        NaN                    NaN              NaN          NaN   \n",
       "3        NaN                    NaN              NaN          NaN   \n",
       "4        NaN                    NaN              NaN          NaN   \n",
       "\n",
       "   Mean corpuscular hemoglobin concentration (MCHC)  Leukocytes  ...  \\\n",
       "0                                               NaN         NaN  ...   \n",
       "1                                          -0.95079    -0.09461  ...   \n",
       "2                                               NaN         NaN  ...   \n",
       "3                                               NaN         NaN  ...   \n",
       "4                                               NaN         NaN  ...   \n",
       "\n",
       "   Parainfluenza 3  Chlamydophila pneumoniae    Adenovirus  Parainfluenza 4  \\\n",
       "0              NaN                       NaN           NaN              NaN   \n",
       "1     not_detected              not_detected  not_detected     not_detected   \n",
       "2              NaN                       NaN           NaN              NaN   \n",
       "3              NaN                       NaN           NaN              NaN   \n",
       "4     not_detected              not_detected  not_detected     not_detected   \n",
       "\n",
       "   Coronavirus229E  CoronavirusOC43 Inf A H1N1 2009 Bordetella pertussis  \\\n",
       "0              NaN              NaN             NaN                  NaN   \n",
       "1     not_detected     not_detected    not_detected         not_detected   \n",
       "2              NaN              NaN             NaN                  NaN   \n",
       "3              NaN              NaN             NaN                  NaN   \n",
       "4     not_detected     not_detected    not_detected         not_detected   \n",
       "\n",
       "  Metapneumovirus Parainfluenza 2  \n",
       "0             NaN             NaN  \n",
       "1    not_detected    not_detected  \n",
       "2             NaN             NaN  \n",
       "3             NaN             NaN  \n",
       "4    not_detected    not_detected  \n",
       "\n",
       "[5 rows x 33 columns]"
      ]
     },
     "execution_count": 84,
     "metadata": {},
     "output_type": "execute_result"
    }
   ],
   "source": [
    "dataset = dataset[key_columns + blood_columns + viral_columns]\n",
    "dataset.head()"
   ]
  },
  {
   "cell_type": "markdown",
   "metadata": {},
   "source": [
    "### TrainTest Nettoyage Encodage"
   ]
  },
  {
   "cell_type": "code",
   "execution_count": 85,
   "metadata": {},
   "outputs": [],
   "source": [
    "from sklearn.model_selection import train_test_split"
   ]
  },
  {
   "cell_type": "markdown",
   "metadata": {},
   "source": [
    "train test split permet de decouper notre dataset en trainset et testset\n"
   ]
  },
  {
   "cell_type": "code",
   "execution_count": 86,
   "metadata": {},
   "outputs": [],
   "source": [
    "trainset, testset = train_test_split(dataset, test_size=0.2, random_state=0)"
   ]
  },
  {
   "cell_type": "markdown",
   "metadata": {},
   "source": [
    "pour etre sur qu''on a deux proportion"
   ]
  },
  {
   "cell_type": "code",
   "execution_count": 87,
   "metadata": {},
   "outputs": [
    {
     "data": {
      "text/plain": [
       "negative    4068\n",
       "positive     447\n",
       "Name: SARS-Cov-2 exam result, dtype: int64"
      ]
     },
     "execution_count": 87,
     "metadata": {},
     "output_type": "execute_result"
    }
   ],
   "source": [
    "trainset['SARS-Cov-2 exam result'].value_counts()"
   ]
  },
  {
   "cell_type": "code",
   "execution_count": 88,
   "metadata": {},
   "outputs": [
    {
     "data": {
      "text/plain": [
       "negative    1018\n",
       "positive     111\n",
       "Name: SARS-Cov-2 exam result, dtype: int64"
      ]
     },
     "execution_count": 88,
     "metadata": {},
     "output_type": "execute_result"
    }
   ],
   "source": [
    "testset['SARS-Cov-2 exam result'].value_counts()"
   ]
  },
  {
   "cell_type": "markdown",
   "metadata": {},
   "source": [
    "maintenant on aura passé au nettoyage"
   ]
  },
  {
   "cell_type": "markdown",
   "metadata": {},
   "source": [
    "nous avons 4 variables qualitatives de type objet : pos , neg , detected , not detected\n",
    "donc ce codage permet de cree un dictionnaire relie ces variables avec des nombres"
   ]
  },
  {
   "cell_type": "markdown",
   "metadata": {},
   "source": [
    "la fonction map permet d'appliquer ce dictionnaire a tous les valeurs de types objet de chaque colonne"
   ]
  },
  {
   "cell_type": "code",
   "execution_count": 89,
   "metadata": {},
   "outputs": [],
   "source": [
    "def encodage(dataset):\n",
    "    code = {'negative':0,\n",
    "            'positive':1,\n",
    "            'not_detected':0,\n",
    "            'detected':1}\n",
    "    \n",
    "    for col in dataset.select_dtypes('object').columns:\n",
    "        dataset.loc[:,col] = dataset[col].map(code)\n",
    "        \n",
    "    return dataset"
   ]
  },
  {
   "cell_type": "markdown",
   "metadata": {},
   "source": [
    "def feature_engineering(dataset):\n",
    "    dataset['est malade'] = dataset[viral_columns].sum(axis=1) >= 1\n",
    "    dataset = dataset.drop(viral_columns, axis=1)\n",
    "    return dataset"
   ]
  },
  {
   "cell_type": "code",
   "execution_count": 90,
   "metadata": {},
   "outputs": [],
   "source": [
    "def feature_engineering(dataset):\n",
    "    dataset['est malade'] = dataset[viral_columns].sum(axis=1) >= 1\n",
    "    dataset = dataset.drop(viral_columns, axis=1)\n",
    "    return dataset"
   ]
  },
  {
   "cell_type": "markdown",
   "metadata": {},
   "source": [
    "est malade ca veut pas dire au corona , mais juste teste positive a une maladie\n",
    ">=1 il suffit que la personne ait au moins une maladie"
   ]
  },
  {
   "cell_type": "markdown",
   "metadata": {},
   "source": [
    "### fonction pour eliminer notre variable manquante\n",
    "passer notre dataset soit trainset ou testset"
   ]
  },
  {
   "cell_type": "code",
   "execution_count": 91,
   "metadata": {},
   "outputs": [],
   "source": [
    "def imputation(dataset):\n",
    "    dataset = dataset.dropna(axis=0)\n",
    "    return  dataset"
   ]
  },
  {
   "cell_type": "markdown",
   "metadata": {},
   "source": [
    "toute les variables qualitat sont remplacer par 0-1"
   ]
  },
  {
   "cell_type": "code",
   "execution_count": null,
   "metadata": {},
   "outputs": [],
   "source": []
  },
  {
   "cell_type": "markdown",
   "metadata": {},
   "source": [
    "dans cette fonction on va faire l'encodage et l'imputation et pour finir cette fonction on cree le x et le y pour faire le preprocessing dont on a besoin"
   ]
  },
  {
   "cell_type": "code",
   "execution_count": 92,
   "metadata": {},
   "outputs": [],
   "source": [
    "def preprocessing(dataset):\n",
    "    \n",
    "    dataset = encodage(dataset)\n",
    "    dataset = feature_engineering(dataset)\n",
    "    dataset = imputation(dataset)\n",
    "    \n",
    "    X = dataset.drop('SARS-Cov-2 exam result', axis=1)\n",
    "    y = dataset['SARS-Cov-2 exam result']\n",
    "    \n",
    "    print(y.value_counts())\n",
    "    \n",
    "    return X, y"
   ]
  },
  {
   "cell_type": "code",
   "execution_count": 93,
   "metadata": {},
   "outputs": [
    {
     "name": "stderr",
     "output_type": "stream",
     "text": [
      "C:\\Users\\KHAOULA\\anaconda3\\lib\\site-packages\\pandas\\core\\indexing.py:1745: SettingWithCopyWarning: \n",
      "A value is trying to be set on a copy of a slice from a DataFrame.\n",
      "Try using .loc[row_indexer,col_indexer] = value instead\n",
      "\n",
      "See the caveats in the documentation: https://pandas.pydata.org/pandas-docs/stable/user_guide/indexing.html#returning-a-view-versus-a-copy\n",
      "  isetter(ilocs[0], value)\n"
     ]
    },
    {
     "name": "stdout",
     "output_type": "stream",
     "text": [
      "0    422\n",
      "1     65\n",
      "Name: SARS-Cov-2 exam result, dtype: int64\n"
     ]
    },
    {
     "name": "stderr",
     "output_type": "stream",
     "text": [
      "<ipython-input-90-79b49c816090>:2: SettingWithCopyWarning: \n",
      "A value is trying to be set on a copy of a slice from a DataFrame.\n",
      "Try using .loc[row_indexer,col_indexer] = value instead\n",
      "\n",
      "See the caveats in the documentation: https://pandas.pydata.org/pandas-docs/stable/user_guide/indexing.html#returning-a-view-versus-a-copy\n",
      "  dataset['est malade'] = dataset[viral_columns].sum(axis=1) >= 1\n"
     ]
    }
   ],
   "source": [
    "X_train, y_train = preprocessing(trainset)"
   ]
  },
  {
   "cell_type": "code",
   "execution_count": 94,
   "metadata": {},
   "outputs": [
    {
     "name": "stderr",
     "output_type": "stream",
     "text": [
      "C:\\Users\\KHAOULA\\anaconda3\\lib\\site-packages\\pandas\\core\\indexing.py:1745: SettingWithCopyWarning: \n",
      "A value is trying to be set on a copy of a slice from a DataFrame.\n",
      "Try using .loc[row_indexer,col_indexer] = value instead\n",
      "\n",
      "See the caveats in the documentation: https://pandas.pydata.org/pandas-docs/stable/user_guide/indexing.html#returning-a-view-versus-a-copy\n",
      "  isetter(ilocs[0], value)\n"
     ]
    },
    {
     "name": "stdout",
     "output_type": "stream",
     "text": [
      "0    95\n",
      "1    16\n",
      "Name: SARS-Cov-2 exam result, dtype: int64\n"
     ]
    },
    {
     "name": "stderr",
     "output_type": "stream",
     "text": [
      "<ipython-input-90-79b49c816090>:2: SettingWithCopyWarning: \n",
      "A value is trying to be set on a copy of a slice from a DataFrame.\n",
      "Try using .loc[row_indexer,col_indexer] = value instead\n",
      "\n",
      "See the caveats in the documentation: https://pandas.pydata.org/pandas-docs/stable/user_guide/indexing.html#returning-a-view-versus-a-copy\n",
      "  dataset['est malade'] = dataset[viral_columns].sum(axis=1) >= 1\n"
     ]
    }
   ],
   "source": [
    "X_test, y_test = preprocessing(testset)"
   ]
  },
  {
   "cell_type": "markdown",
   "metadata": {},
   "source": [
    "ensuite nous avons essayer de creer un modele par exemple arbre de decision pour diagnosti le modele : quel sont les variables important ....."
   ]
  },
  {
   "cell_type": "markdown",
   "metadata": {},
   "source": [
    "### modellisation\n"
   ]
  },
  {
   "cell_type": "markdown",
   "metadata": {},
   "source": [
    "importer l'estimateur DecisionTreeClassifier"
   ]
  },
  {
   "cell_type": "code",
   "execution_count": 95,
   "metadata": {},
   "outputs": [],
   "source": [
    "from sklearn.tree import DecisionTreeClassifier\n",
    "from sklearn.ensemble import RandomForestClassifier , AdaBoostClassifier\n",
    "from sklearn.svm import SVC\n",
    "from sklearn.neighbors import KNeighborsClassifier\n",
    "from sklearn.pipeline import make_pipeline\n",
    "from sklearn.feature_selection import SelectKBest, f_classif\n",
    "from sklearn.preprocessing import PolynomialFeatures, StandardScaler\n"
   ]
  },
  {
   "cell_type": "markdown",
   "metadata": {},
   "source": [
    "creer un modele arbre de decision avec un generateur aleatoir fixer a 0 ; pour avoir une reputabilité dans les resultats at ainsi evaluer les diff decision qu'on va prendre "
   ]
  },
  {
   "cell_type": "code",
   "execution_count": 96,
   "metadata": {},
   "outputs": [],
   "source": [
    "preprocessor = make_pipeline(PolynomialFeatures(2, include_bias=False), SelectKBest(f_classif, k=10))"
   ]
  },
  {
   "cell_type": "markdown",
   "metadata": {},
   "source": [
    "prendre les 10 meilleurs variables celles qui ont les liens les plus fort en test de anova entre notre target et nos variables x_train\n",
    "polynomialefeatures permet d'augmenter chaque variable au carre et de multiplier egalement chaque variable avec ses diff voisines\n",
    "ensuite pour filtrer tous ca on garde les 10 meil var"
   ]
  },
  {
   "cell_type": "code",
   "execution_count": 97,
   "metadata": {},
   "outputs": [],
   "source": [
    "RandomForest = make_pipeline(preprocessor,RandomForestClassifier(random_state=0))\n",
    "AdaBoost = make_pipeline(preprocessor,AdaBoostClassifier(random_state=0))\n",
    "SVM = make_pipeline(preprocessor, StandardScaler(), SVC(random_state=0))\n",
    "KNN = make_pipeline(preprocessor,StandardScaler(), KNeighborsClassifier())\n"
   ]
  },
  {
   "cell_type": "markdown",
   "metadata": {},
   "source": [
    "forestClassifier les trois types sont basés sur arbres de decision pas besoin de jeux de données normalisés\n",
    "par contre SVM a besoin d'une operation de normalisation"
   ]
  },
  {
   "cell_type": "markdown",
   "metadata": {},
   "source": [
    "les algorithms support vecteur machine sont efficace sur des datasets de taille intermidiaire ( de petite taille -1000/2000 de données-)"
   ]
  },
  {
   "cell_type": "code",
   "execution_count": 98,
   "metadata": {},
   "outputs": [],
   "source": [
    "list_of_models ={'RandomForest':RandomForest,\n",
    "                  'AdaBoost':AdaBoost,\n",
    "                   'SVM':SVM,\n",
    "                   'KNN':KNN\n",
    "                  }"
   ]
  },
  {
   "cell_type": "code",
   "execution_count": 99,
   "metadata": {},
   "outputs": [
    {
     "name": "stdout",
     "output_type": "stream",
     "text": [
      "RandomForest\n",
      "[[91  4]\n",
      " [11  5]]\n",
      "              precision    recall  f1-score   support\n",
      "\n",
      "           0       0.89      0.96      0.92        95\n",
      "           1       0.56      0.31      0.40        16\n",
      "\n",
      "    accuracy                           0.86       111\n",
      "   macro avg       0.72      0.64      0.66       111\n",
      "weighted avg       0.84      0.86      0.85       111\n",
      "\n",
      "AdaBoost\n",
      "[[91  4]\n",
      " [ 9  7]]\n",
      "              precision    recall  f1-score   support\n",
      "\n",
      "           0       0.91      0.96      0.93        95\n",
      "           1       0.64      0.44      0.52        16\n",
      "\n",
      "    accuracy                           0.88       111\n",
      "   macro avg       0.77      0.70      0.73       111\n",
      "weighted avg       0.87      0.88      0.87       111\n",
      "\n",
      "SVM\n",
      "[[92  3]\n",
      " [10  6]]\n",
      "              precision    recall  f1-score   support\n",
      "\n",
      "           0       0.90      0.97      0.93        95\n",
      "           1       0.67      0.38      0.48        16\n",
      "\n",
      "    accuracy                           0.88       111\n",
      "   macro avg       0.78      0.67      0.71       111\n",
      "weighted avg       0.87      0.88      0.87       111\n",
      "\n",
      "KNN\n",
      "[[88  7]\n",
      " [ 8  8]]\n",
      "              precision    recall  f1-score   support\n",
      "\n",
      "           0       0.92      0.93      0.92        95\n",
      "           1       0.53      0.50      0.52        16\n",
      "\n",
      "    accuracy                           0.86       111\n",
      "   macro avg       0.72      0.71      0.72       111\n",
      "weighted avg       0.86      0.86      0.86       111\n",
      "\n"
     ]
    },
    {
     "data": {
      "image/png": "[encoded data removed]",
      "text/plain": [
       "<Figure size 864x576 with 1 Axes>"
      ]
     },
     "metadata": {
      "needs_background": "light"
     },
     "output_type": "display_data"
    },
    {
     "data": {
      "image/png": "[encoded data removed]",
      "text/plain": [
       "<Figure size 864x576 with 1 Axes>"
      ]
     },
     "metadata": {
      "needs_background": "light"
     },
     "output_type": "display_data"
    },
    {
     "data": {
      "image/png": "[encoded data removed]",
      "text/plain": [
       "<Figure size 864x576 with 1 Axes>"
      ]
     },
     "metadata": {
      "needs_background": "light"
     },
     "output_type": "display_data"
    },
    {
     "data": {
      "image/png": "[encoded data removed]",
      "text/plain": [
       "<Figure size 864x576 with 1 Axes>"
      ]
     },
     "metadata": {
      "needs_background": "light"
     },
     "output_type": "display_data"
    }
   ],
   "source": [
    "for name, model in list_of_models.items():\n",
    "    print(name)\n",
    "    evaluation(model)"
   ]
  },
  {
   "cell_type": "markdown",
   "metadata": {},
   "source": [
    "(commentaires : liste of models )\n",
    "donc pour f1- score : \n",
    "adaboost et SVM sont plus premetteur\n",
    "SVM n'est plus en over fitting  train score plus proche au validation score donc plus interess\n",
    "le plus import c'est d'avoir un ecart reduit entre le train et le validation score , modele bien appris  \n",
    "KNN un modéle basé sur les instants les données quand va fournit"
   ]
  },
  {
   "cell_type": "markdown",
   "metadata": {},
   "source": [
    "donc c'est le temps de cree une procedure d'evaluation qui soit robuste, claire et informative"
   ]
  },
  {
   "cell_type": "markdown",
   "metadata": {},
   "source": [
    "# Procédure d'evaluation "
   ]
  },
  {
   "cell_type": "code",
   "execution_count": 35,
   "metadata": {},
   "outputs": [],
   "source": [
    "from sklearn.metrics import f1_score, confusion_matrix, classification_report\n",
    "from sklearn.model_selection import learning_curve"
   ]
  },
  {
   "cell_type": "markdown",
   "metadata": {},
   "source": [
    "pour avoir le bon apercu entre le rapport de la precision et de la sensibilitée \n",
    "\n",
    "la précision et la sensib permet de mesurer la proportion d'erreur de type 1 et 2 dans notre dataset c-a-d les proportions de faux positives et de faux negatives que notre modele effectue\n",
    "\n",
    "confusion matrix : pour voir les rapports entre fx pos et fx neg\n",
    "\n",
    "classif repo : un super outils qui va nous faire un bilan\n",
    "\n",
    "learning curve va nous aidee pour prendre des decisions ( creer des polynomes )\n"
   ]
  },
  {
   "cell_type": "code",
   "execution_count": 36,
   "metadata": {},
   "outputs": [],
   "source": [
    "def evaluation(model):\n",
    "    \n",
    "    model.fit(X_train, y_train)\n",
    "    ypred = model.predict(X_test)\n",
    "    \n",
    "    print(confusion_matrix(y_test, ypred))\n",
    "    print(classification_report(y_test, ypred))\n",
    "    \n",
    "    N, train_score, val_score = learning_curve(model, X_train, y_train,\n",
    "                                              cv=4, scoring='f1',\n",
    "                                               train_sizes=np.linspace(0.1, 1, 10))\n",
    "    \n",
    "    \n",
    "    plt.figure(figsize=(12, 8))\n",
    "    plt.plot(N, train_score.mean(axis=1), label='train score')\n",
    "    plt.plot(N, val_score.mean(axis=1), label='validation score')\n",
    "    plt.legend()"
   ]
  },
  {
   "cell_type": "code",
   "execution_count": 37,
   "metadata": {},
   "outputs": [
    {
     "name": "stdout",
     "output_type": "stream",
     "text": [
      "[[92  3]\n",
      " [13  3]]\n",
      "              precision    recall  f1-score   support\n",
      "\n",
      "           0       0.88      0.97      0.92        95\n",
      "           1       0.50      0.19      0.27        16\n",
      "\n",
      "    accuracy                           0.86       111\n",
      "   macro avg       0.69      0.58      0.60       111\n",
      "weighted avg       0.82      0.86      0.83       111\n",
      "\n"
     ]
    },
    {
     "data": {
      "image/png": "[encoded data removed]",
      "text/plain": [
       "<Figure size 864x576 with 1 Axes>"
      ]
     },
     "metadata": {
      "needs_background": "light"
     },
     "output_type": "display_data"
    }
   ],
   "source": [
    "evaluation(model_1)"
   ]
  },
  {
   "cell_type": "markdown",
   "metadata": {},
   "source": [
    "alors dans cette evaluation on observe que y a pas d'erreur et on a : \n",
    "54 cas negatifs dans notre dataset on a pu identifier correctement 52 personnes et on a fait 2 erreur ( peut etre contaminer)\n",
    "méme pour les y=1 : 2 cas positif et 10 cas incorrectement rejeter\n",
    "on a pu identifier seulement 17% des cas positifs au corona avec ce modele de machine learning\n",
    "\n",
    "le score f1 est un tres bon rapport entre la precision et le recall et ca ne permettre si notre modele arrive a la fois a bien identifier les cas positifs et bien identifier les cas negatifs "
   ]
  },
  {
   "cell_type": "markdown",
   "metadata": {},
   "source": [
    "et puis en vas ajouter dans cette fonction d'evaluation des learning curve pour comprendre si notre modele est under ou over-fitting\n",
    "under-fitting pour les ajouter il faut identifier 3 variables qui utilise la validation croiser pour entrainer et evaluer notre modele sur plusieurs split de notre dataset\n",
    "\n",
    "alors une fois en arrive a bien identifier les diffs scores de avec learning curve ==> visualiser les resultats dans un graphique "
   ]
  },
  {
   "cell_type": "markdown",
   "metadata": {},
   "source": [
    "# le diagnostique de notre modéle"
   ]
  },
  {
   "cell_type": "markdown",
   "metadata": {},
   "source": [
    "on voit que notre modélé est en overfitting parceque le modéle a un score de 100% sur les données du trainset donc il a parfaitement (ok sur le trainset) \n",
    "par contre il est incappable de generaliser sur de nouveau cas (des performances f1(le score f1 qui est pbserver ici) beaucoup moins bonne )\n",
    "au mieux on obtient 50% qui est déja trop bon\n",
    "a partir de la on peut donc essayer de modifier notre dataset pour lutter cette over-fitting \n",
    "par exemple fournir plus de donnée a la machine \n",
    "plus on a des données plus le score de validation augmente"
   ]
  },
  {
   "cell_type": "markdown",
   "metadata": {},
   "source": [
    "et pour améliorer on adopte la selection de variable \n",
    "selectioner les variables les plus importantes dans la decoupe de l'arbre de décision"
   ]
  },
  {
   "cell_type": "code",
   "execution_count": 38,
   "metadata": {},
   "outputs": [
    {
     "data": {
      "text/html": [
       "<div>\n",
       "<style scoped>\n",
       "    .dataframe tbody tr th:only-of-type {\n",
       "        vertical-align: middle;\n",
       "    }\n",
       "\n",
       "    .dataframe tbody tr th {\n",
       "        vertical-align: top;\n",
       "    }\n",
       "\n",
       "    .dataframe thead th {\n",
       "        text-align: right;\n",
       "    }\n",
       "</style>\n",
       "<table border=\"1\" class=\"dataframe\">\n",
       "  <thead>\n",
       "    <tr style=\"text-align: right;\">\n",
       "      <th></th>\n",
       "      <th>0</th>\n",
       "    </tr>\n",
       "  </thead>\n",
       "  <tbody>\n",
       "    <tr>\n",
       "      <th>Patient age quantile</th>\n",
       "      <td>0.044181</td>\n",
       "    </tr>\n",
       "    <tr>\n",
       "      <th>Hematocrit</th>\n",
       "      <td>0.049772</td>\n",
       "    </tr>\n",
       "    <tr>\n",
       "      <th>Hemoglobin</th>\n",
       "      <td>0.039850</td>\n",
       "    </tr>\n",
       "    <tr>\n",
       "      <th>Platelets</th>\n",
       "      <td>0.112081</td>\n",
       "    </tr>\n",
       "    <tr>\n",
       "      <th>Mean platelet volume</th>\n",
       "      <td>0.040389</td>\n",
       "    </tr>\n",
       "    <tr>\n",
       "      <th>Red blood Cells</th>\n",
       "      <td>0.049993</td>\n",
       "    </tr>\n",
       "    <tr>\n",
       "      <th>Lymphocytes</th>\n",
       "      <td>0.051813</td>\n",
       "    </tr>\n",
       "    <tr>\n",
       "      <th>Mean corpuscular hemoglobin concentration (MCHC)</th>\n",
       "      <td>0.044944</td>\n",
       "    </tr>\n",
       "    <tr>\n",
       "      <th>Leukocytes</th>\n",
       "      <td>0.210472</td>\n",
       "    </tr>\n",
       "    <tr>\n",
       "      <th>Basophils</th>\n",
       "      <td>0.027783</td>\n",
       "    </tr>\n",
       "    <tr>\n",
       "      <th>Mean corpuscular hemoglobin (MCH)</th>\n",
       "      <td>0.038548</td>\n",
       "    </tr>\n",
       "    <tr>\n",
       "      <th>Eosinophils</th>\n",
       "      <td>0.071044</td>\n",
       "    </tr>\n",
       "    <tr>\n",
       "      <th>Mean corpuscular volume (MCV)</th>\n",
       "      <td>0.039503</td>\n",
       "    </tr>\n",
       "    <tr>\n",
       "      <th>Monocytes</th>\n",
       "      <td>0.081977</td>\n",
       "    </tr>\n",
       "    <tr>\n",
       "      <th>Red blood cell distribution width (RDW)</th>\n",
       "      <td>0.043904</td>\n",
       "    </tr>\n",
       "    <tr>\n",
       "      <th>est malade</th>\n",
       "      <td>0.053747</td>\n",
       "    </tr>\n",
       "  </tbody>\n",
       "</table>\n",
       "</div>"
      ],
      "text/plain": [
       "                                                         0\n",
       "Patient age quantile                              0.044181\n",
       "Hematocrit                                        0.049772\n",
       "Hemoglobin                                        0.039850\n",
       "Platelets                                         0.112081\n",
       "Mean platelet volume                              0.040389\n",
       "Red blood Cells                                   0.049993\n",
       "Lymphocytes                                       0.051813\n",
       "Mean corpuscular hemoglobin concentration (MCHC)  0.044944\n",
       "Leukocytes                                        0.210472\n",
       "Basophils                                         0.027783\n",
       "Mean corpuscular hemoglobin (MCH)                 0.038548\n",
       "Eosinophils                                       0.071044\n",
       "Mean corpuscular volume (MCV)                     0.039503\n",
       "Monocytes                                         0.081977\n",
       "Red blood cell distribution width (RDW)           0.043904\n",
       "est malade                                        0.053747"
      ]
     },
     "execution_count": 38,
     "metadata": {},
     "output_type": "execute_result"
    }
   ],
   "source": [
    "pd.DataFrame(model_1.feature_importances_, index=X_train.columns)\n"
   ]
  },
  {
   "cell_type": "code",
   "execution_count": 39,
   "metadata": {},
   "outputs": [
    {
     "data": {
      "text/plain": [
       "<AxesSubplot:>"
      ]
     },
     "execution_count": 39,
     "metadata": {},
     "output_type": "execute_result"
    },
    {
     "data": {
      "image/png": "[encoded data removed]",
      "text/plain": [
       "<Figure size 864x576 with 1 Axes>"
      ]
     },
     "metadata": {
      "needs_background": "light"
     },
     "output_type": "display_data"
    }
   ],
   "source": [
    "pd.DataFrame(model_1.feature_importances_, index=X_train.columns).plot.bar(figsize=(12, 8))"
   ]
  },
  {
   "cell_type": "markdown",
   "metadata": {},
   "source": [
    "on se retrouve avec un graphique qui nous montre ou sont les variables les plus importantes pour notre arbre de decision \n",
    "les variables de type sang sont plus importants que de type virus\n",
    "donc a partir de ce graphique on va faire deux choses : \n",
    "*definir un seuil en dessous duquel les variables ne sont pas selectionnés.par exemple 0.01 et toutes les variables qui sont en dessous de ce seuil partent a la poubelles \n",
    "*rendre compte que la majourité des variables qui n'ont aucune importance sont les variables viral , donc pourquoi pas supp ces données \n",
    "plus de données = augmentation du potentielle de validation score "
   ]
  },
  {
   "cell_type": "markdown",
   "metadata": {},
   "source": [
    "# Eliminer les variables de type viral"
   ]
  },
  {
   "cell_type": "markdown",
   "metadata": {},
   "source": [
    "on n'a pas reussi"
   ]
  },
  {
   "cell_type": "markdown",
   "metadata": {},
   "source": [
    "utiliser un modéle régularisés ou un modéle qui lutte contre l'over fitting : la random forest \n",
    "donc au lieu d'utiliser un arbre de décision "
   ]
  },
  {
   "cell_type": "markdown",
   "metadata": {},
   "source": [
    "apres feature eng on observe qu'il y a encore des variables qui sont pas importantes\n",
    "donc on peurrait tenter de definir un seuil avec le selecteur : select from model ou select key best "
   ]
  },
  {
   "cell_type": "markdown",
   "metadata": {},
   "source": [
    "# conclusion : \n",
    "    les modéles baser sur des arbres ne necessite pas de faire de normalisation\n",
    "    un peu d'encodage \n",
    "    un peu de feature engineering \n",
    "    une imputation \n",
    "    nous avons identifiés les variables les plus importants \n",
    "    nous avons pre-traiter ce dataset dans le but de dev un modele de machine learning \n",
    "    avec tous ca nous avons dev un modele de machine learning on l'essayons de l'optimis pour avoir les meilleurs performance possible \n",
    "    "
   ]
  },
  {
   "cell_type": "markdown",
   "metadata": {},
   "source": [
    "# MODÈLE DE MACHINE LEARNING"
   ]
  },
  {
   "cell_type": "markdown",
   "metadata": {},
   "source": [
    " les differents modele de machine learning : \n",
    "       Decision Tree, Random Forest, Neural Network\n",
    "       RandomForestClassifier, AdaBoostClassifier , Support Vecteur machine , KNeighborsClassifier\n"
   ]
  },
  {
   "cell_type": "markdown",
   "metadata": {},
   "source": [
    "# optimisation "
   ]
  },
  {
   "cell_type": "code",
   "execution_count": 139,
   "metadata": {},
   "outputs": [],
   "source": [
    "from sklearn.model_selection import GridSearchCV"
   ]
  },
  {
   "cell_type": "code",
   "execution_count": 140,
   "metadata": {},
   "outputs": [
    {
     "data": {
      "text/plain": [
       "Pipeline(steps=[('pipeline',\n",
       "                 Pipeline(steps=[('polynomialfeatures',\n",
       "                                  PolynomialFeatures(include_bias=False)),\n",
       "                                 ('selectkbest', SelectKBest())])),\n",
       "                ('standardscaler', StandardScaler()),\n",
       "                ('svc', SVC(random_state=0))])"
      ]
     },
     "execution_count": 140,
     "metadata": {},
     "output_type": "execute_result"
    }
   ],
   "source": [
    "SVM"
   ]
  },
  {
   "cell_type": "markdown",
   "metadata": {},
   "source": [
    "test 1 :\n",
    "hyper_params = { 'svc__gamma': [1e-3, 1e-4],\n",
    "               'svc__C':[1, 10, 100, 1000]}"
   ]
  },
  {
   "cell_type": "markdown",
   "metadata": {},
   "source": [
    "test 1 :\n",
    "grid = GridSearchCV(SVM, hyper_params, scoring='recall', cv=4)\n",
    "\n",
    "grid.fit(X_train, y_train)\n",
    "\n",
    "print(grid.best_params_)\n",
    "\n",
    "y_pred = grid.predict(X_test)\n",
    "\n",
    "print(classification_report(y_test, y_pred))"
   ]
  },
  {
   "cell_type": "markdown",
   "metadata": {},
   "source": [
    "scoring minimiser le nombre des gens qui sont positifs mas qu'on detecte pas\n",
    "donc apres grid on aura une amélioration \n",
    "\n",
    "de 0.38-0.48 à 0.44-0.54\n"
   ]
  },
  {
   "cell_type": "markdown",
   "metadata": {},
   "source": [
    "resultat test 1 :\n",
    "evaluation(grid.best_estimator_)"
   ]
  },
  {
   "cell_type": "markdown",
   "metadata": {},
   "source": [
    "donc la courbe du train score dimun mais validation score augmente \n",
    "donc le modéle capable de generaliser\n",
    "alors , comment reussir a pousser le modéle encore plus loin?\n",
    "au lieu de gridSearchCV on utilise RandomizedSearchCV : chercher de facon aleatoire différente combinaison dans tout le domaine des hyper params"
   ]
  },
  {
   "cell_type": "markdown",
   "metadata": {},
   "source": [
    "test 2 :"
   ]
  },
  {
   "cell_type": "code",
   "execution_count": 141,
   "metadata": {},
   "outputs": [],
   "source": [
    "from sklearn.model_selection import RandomizedSearchCV"
   ]
  },
  {
   "cell_type": "code",
   "execution_count": 144,
   "metadata": {},
   "outputs": [],
   "source": [
    "hyper_params = { 'svc__gamma': [1e-3, 1e-4],\n",
    "               'svc__C':[1, 10, 100, 1000],\n",
    "                'pipeline__polynomialfeatures__degree':[2, 3, 4],\n",
    "                'pipeline__selectkbest__k': range(40, 60)\n",
    "               }"
   ]
  },
  {
   "cell_type": "code",
   "execution_count": 145,
   "metadata": {},
   "outputs": [
    {
     "name": "stdout",
     "output_type": "stream",
     "text": [
      "{'svc__gamma': 0.001, 'svc__C': 1000, 'pipeline__selectkbest__k': 53, 'pipeline__polynomialfeatures__degree': 3}\n",
      "              precision    recall  f1-score   support\n",
      "\n",
      "           0       0.92      0.94      0.93        95\n",
      "           1       0.57      0.50      0.53        16\n",
      "\n",
      "    accuracy                           0.87       111\n",
      "   macro avg       0.74      0.72      0.73       111\n",
      "weighted avg       0.87      0.87      0.87       111\n",
      "\n"
     ]
    }
   ],
   "source": [
    "grid = RandomizedSearchCV(SVM, hyper_params, scoring='recall', cv=4, n_iter=40)\n",
    "\n",
    "grid.fit(X_train, y_train)\n",
    "\n",
    "print(grid.best_params_)\n",
    "\n",
    "y_pred = grid.predict(X_test)\n",
    "\n",
    "print(classification_report(y_test, y_pred))"
   ]
  },
  {
   "cell_type": "markdown",
   "metadata": {},
   "source": [
    "on obtient les mm hyper par comme test 1 :\n",
    "    encore une fois des bonnes scores \n",
    "    0.50-0.53\n",
    "    on a seulement tester 40 config"
   ]
  },
  {
   "cell_type": "code",
   "execution_count": 146,
   "metadata": {},
   "outputs": [
    {
     "name": "stdout",
     "output_type": "stream",
     "text": [
      "[[89  6]\n",
      " [ 8  8]]\n",
      "              precision    recall  f1-score   support\n",
      "\n",
      "           0       0.92      0.94      0.93        95\n",
      "           1       0.57      0.50      0.53        16\n",
      "\n",
      "    accuracy                           0.87       111\n",
      "   macro avg       0.74      0.72      0.73       111\n",
      "weighted avg       0.87      0.87      0.87       111\n",
      "\n"
     ]
    },
    {
     "data": {
      "image/png": "[encoded data removed]",
      "text/plain": [
       "<Figure size 864x576 with 1 Axes>"
      ]
     },
     "metadata": {
      "needs_background": "light"
     },
     "output_type": "display_data"
    }
   ],
   "source": [
    "evaluation(grid.best_estimator_)"
   ]
  },
  {
   "cell_type": "markdown",
   "metadata": {},
   "source": [
    "# Precision Recall Curve"
   ]
  },
  {
   "cell_type": "code",
   "execution_count": 147,
   "metadata": {},
   "outputs": [],
   "source": [
    "from sklearn.metrics import precision_recall_curve"
   ]
  },
  {
   "cell_type": "code",
   "execution_count": 148,
   "metadata": {},
   "outputs": [],
   "source": [
    "precision, recall, threshold = precision_recall_curve(y_test, grid.best_estimator_.decision_function(X_test))"
   ]
  },
  {
   "cell_type": "code",
   "execution_count": 149,
   "metadata": {},
   "outputs": [
    {
     "data": {
      "text/plain": [
       "<matplotlib.legend.Legend at 0x1985e4120d0>"
      ]
     },
     "execution_count": 149,
     "metadata": {},
     "output_type": "execute_result"
    },
    {
     "data": {
      "image/png": "[encoded data removed]",
      "text/plain": [
       "<Figure size 432x288 with 1 Axes>"
      ]
     },
     "metadata": {
      "needs_background": "light"
     },
     "output_type": "display_data"
    }
   ],
   "source": [
    "plt.plot(threshold, precision[:-1], label='precision')\n",
    "plt.plot(threshold, recall[:-1], label='recall')\n",
    "plt.legend()"
   ]
  },
  {
   "cell_type": "markdown",
   "metadata": {},
   "source": [
    "plus la precision augmente ==> recall dimin\n",
    "tenté de trouver un seuil de decision à l'interieur de notre SVM qui va nous donnés le meilleur recall avec une meilleure precision\n"
   ]
  },
  {
   "cell_type": "code",
   "execution_count": 150,
   "metadata": {},
   "outputs": [],
   "source": [
    "def model_final(model, X, threshold=0):\n",
    "    return model.decision_function(X) > threshold"
   ]
  },
  {
   "cell_type": "code",
   "execution_count": 151,
   "metadata": {},
   "outputs": [],
   "source": [
    "y_pred = model_final(grid.best_estimator_, X_test, threshold=-1)"
   ]
  },
  {
   "cell_type": "code",
   "execution_count": 152,
   "metadata": {},
   "outputs": [],
   "source": [
    "from sklearn.metrics import recall_score"
   ]
  },
  {
   "cell_type": "code",
   "execution_count": 153,
   "metadata": {},
   "outputs": [
    {
     "data": {
      "text/plain": [
       "0.5714285714285714"
      ]
     },
     "execution_count": 153,
     "metadata": {},
     "output_type": "execute_result"
    }
   ],
   "source": [
    "f1_score(y_test, y_pred)"
   ]
  },
  {
   "cell_type": "code",
   "execution_count": 154,
   "metadata": {},
   "outputs": [
    {
     "data": {
      "text/plain": [
       "0.75"
      ]
     },
     "execution_count": 154,
     "metadata": {},
     "output_type": "execute_result"
    }
   ],
   "source": [
    "recall_score(y_test, y_pred)"
   ]
  },
  {
   "cell_type": "markdown",
   "metadata": {},
   "source": [
    "SVM efficace sur les petits datasets"
   ]
  },
  {
   "cell_type": "code",
   "execution_count": null,
   "metadata": {},
   "outputs": [],
   "source": []
  }
 ],
 "metadata": {
  "kernelspec": {
   "display_name": "Python 3",
   "language": "python",
   "name": "python3"
  },
  "language_info": {
   "codemirror_mode": {
    "name": "ipython",
    "version": 3
   },
   "file_extension": ".py",
   "mimetype": "text/x-python",
   "name": "python",
   "nbconvert_exporter": "python",
   "pygments_lexer": "ipython3",
   "version": "3.8.5"
  }
 },
 "nbformat": 4,
 "nbformat_minor": 4
}
